{
 "cells": [
  {
   "cell_type": "code",
   "execution_count": 34,
   "metadata": {
    "colab": {},
    "colab_type": "code",
    "id": "BvOaibCzSPGS"
   },
   "outputs": [],
   "source": [
    "import numpy as np\n",
    "import pandas as pd\n",
    "from tensorflow.keras.datasets import mnist\n",
    "from tensorflow.keras import Sequential\n",
    "from tensorflow.keras.layers import Dense,Conv2D,MaxPool2D,Flatten,Dropout"
   ]
  },
  {
   "cell_type": "code",
   "execution_count": 35,
   "metadata": {
    "colab": {},
    "colab_type": "code",
    "id": "a2CsgxzfSPGX"
   },
   "outputs": [],
   "source": [
    "(x_train,y_train),(x_test,y_test)=mnist.load_data()"
   ]
  },
  {
   "cell_type": "code",
   "execution_count": 36,
   "metadata": {
    "colab": {
     "base_uri": "https://localhost:8080/",
     "height": 34
    },
    "colab_type": "code",
    "executionInfo": {
     "elapsed": 854,
     "status": "ok",
     "timestamp": 1568143430528,
     "user": {
      "displayName": "Krishna Sai",
      "photoUrl": "",
      "userId": "01542898352967183230"
     },
     "user_tz": -330
    },
    "id": "pIKorH1YSPGZ",
    "outputId": "2f441a39-4eb6-439b-8af3-90c6c4b54ed4"
   },
   "outputs": [
    {
     "data": {
      "text/plain": [
       "((60000, 28, 28), (60000,), (10000, 28, 28), (10000,))"
      ]
     },
     "execution_count": 36,
     "metadata": {},
     "output_type": "execute_result"
    }
   ],
   "source": [
    "x_train.shape,y_train.shape,x_test.shape,y_test.shape"
   ]
  },
  {
   "cell_type": "code",
   "execution_count": 37,
   "metadata": {
    "colab": {
     "base_uri": "https://localhost:8080/",
     "height": 34
    },
    "colab_type": "code",
    "executionInfo": {
     "elapsed": 706,
     "status": "ok",
     "timestamp": 1568143431752,
     "user": {
      "displayName": "Krishna Sai",
      "photoUrl": "",
      "userId": "01542898352967183230"
     },
     "user_tz": -330
    },
    "id": "tjLaiF8DSPGd",
    "outputId": "c7ec2c2b-b7c4-4247-defc-beb255ebc205"
   },
   "outputs": [
    {
     "data": {
      "text/plain": [
       "255"
      ]
     },
     "execution_count": 37,
     "metadata": {},
     "output_type": "execute_result"
    }
   ],
   "source": [
    "np.max(x_train)"
   ]
  },
  {
   "cell_type": "code",
   "execution_count": 38,
   "metadata": {
    "colab": {},
    "colab_type": "code",
    "id": "Ye-IGJ9RS5Z6"
   },
   "outputs": [],
   "source": [
    "x_train=x_train/255\n",
    "x_test=x_test/255"
   ]
  },
  {
   "cell_type": "code",
   "execution_count": 39,
   "metadata": {
    "colab": {
     "base_uri": "https://localhost:8080/",
     "height": 34
    },
    "colab_type": "code",
    "executionInfo": {
     "elapsed": 897,
     "status": "ok",
     "timestamp": 1568143434342,
     "user": {
      "displayName": "Krishna Sai",
      "photoUrl": "",
      "userId": "01542898352967183230"
     },
     "user_tz": -330
    },
    "id": "qPyoXncSTXUO",
    "outputId": "cfda7c42-e85d-4181-cdc1-ccdadb27b18a"
   },
   "outputs": [
    {
     "data": {
      "text/plain": [
       "array([5, 0, 4, ..., 5, 6, 8], dtype=uint8)"
      ]
     },
     "execution_count": 39,
     "metadata": {},
     "output_type": "execute_result"
    }
   ],
   "source": [
    "y_train"
   ]
  },
  {
   "cell_type": "code",
   "execution_count": 40,
   "metadata": {
    "colab": {
     "base_uri": "https://localhost:8080/",
     "height": 173
    },
    "colab_type": "code",
    "executionInfo": {
     "elapsed": 861,
     "status": "ok",
     "timestamp": 1568143435609,
     "user": {
      "displayName": "Krishna Sai",
      "photoUrl": "",
      "userId": "01542898352967183230"
     },
     "user_tz": -330
    },
    "id": "DfiA3ckRSPGh",
    "outputId": "e94701ab-1088-42b9-98e7-68a39b657370"
   },
   "outputs": [
    {
     "name": "stderr",
     "output_type": "stream",
     "text": [
      "C:\\ProgramData\\Anaconda3\\lib\\site-packages\\sklearn\\preprocessing\\_encoders.py:371: FutureWarning: The handling of integer data will change in version 0.22. Currently, the categories are determined based on the range [0, max(values)], while in the future they will be determined based on the unique values.\n",
      "If you want the future behaviour and silence this warning, you can specify \"categories='auto'\".\n",
      "In case you used a LabelEncoder before this OneHotEncoder to convert the categories to integers, then you can now use the OneHotEncoder directly.\n",
      "  warnings.warn(msg, FutureWarning)\n",
      "C:\\ProgramData\\Anaconda3\\lib\\site-packages\\sklearn\\preprocessing\\_encoders.py:371: FutureWarning: The handling of integer data will change in version 0.22. Currently, the categories are determined based on the range [0, max(values)], while in the future they will be determined based on the unique values.\n",
      "If you want the future behaviour and silence this warning, you can specify \"categories='auto'\".\n",
      "In case you used a LabelEncoder before this OneHotEncoder to convert the categories to integers, then you can now use the OneHotEncoder directly.\n",
      "  warnings.warn(msg, FutureWarning)\n"
     ]
    }
   ],
   "source": [
    "from sklearn.preprocessing import OneHotEncoder\n",
    "ohe=OneHotEncoder()\n",
    "y_train_o=y_train.reshape(-1,1)\n",
    "y_train_ohe=ohe.fit_transform(y_train_o).toarray()\n",
    "y_test_o=y_test.reshape(-1,1)\n",
    "y_test_ohe=ohe.fit_transform(y_test_o).toarray()"
   ]
  },
  {
   "cell_type": "code",
   "execution_count": 41,
   "metadata": {
    "colab": {},
    "colab_type": "code",
    "id": "Ke0hHYpiSPGj"
   },
   "outputs": [],
   "source": [
    "x_train=x_train.reshape(-1,28,28,1)\n",
    "x_test=x_test.reshape(-1,28,28,1)"
   ]
  },
  {
   "cell_type": "code",
   "execution_count": 42,
   "metadata": {
    "colab": {
     "base_uri": "https://localhost:8080/",
     "height": 34
    },
    "colab_type": "code",
    "executionInfo": {
     "elapsed": 660,
     "status": "ok",
     "timestamp": 1568143438714,
     "user": {
      "displayName": "Krishna Sai",
      "photoUrl": "",
      "userId": "01542898352967183230"
     },
     "user_tz": -330
    },
    "id": "dlp_uvQ0SPGl",
    "outputId": "383f3359-bf4d-4372-caf6-6dbab0ebb945"
   },
   "outputs": [
    {
     "data": {
      "text/plain": [
       "(60000, 28, 28, 1)"
      ]
     },
     "execution_count": 42,
     "metadata": {},
     "output_type": "execute_result"
    }
   ],
   "source": [
    "x_train.shape"
   ]
  },
  {
   "cell_type": "code",
   "execution_count": 43,
   "metadata": {
    "colab": {},
    "colab_type": "code",
    "id": "EJR5j1xqSPGn"
   },
   "outputs": [
    {
     "name": "stdout",
     "output_type": "stream",
     "text": [
      "WARNING:tensorflow:From C:\\ProgramData\\Anaconda3\\lib\\site-packages\\tensorflow\\python\\keras\\layers\\core.py:143: calling dropout (from tensorflow.python.ops.nn_ops) with keep_prob is deprecated and will be removed in a future version.\n",
      "Instructions for updating:\n",
      "Please use `rate` instead of `keep_prob`. Rate should be set to `rate = 1 - keep_prob`.\n"
     ]
    }
   ],
   "source": [
    "model=Sequential()\n",
    "model.add(Conv2D(filters=32,kernel_size=(3,3),strides=(1,1),activation='relu',input_shape=[28,28,1]))\n",
    "model.add(MaxPool2D(pool_size=(2,2),strides=(2,2)))\n",
    "model.add(Dropout(0.3))\n",
    "model.add(Conv2D(filters=64,kernel_size=(3,3),strides=(1,1),activation='relu'))\n",
    "model.add(MaxPool2D(pool_size=(2,2),strides=(2,2)))\n",
    "model.add(Dropout(0.3))\n",
    "#FLATTEN \n",
    "model.add(Flatten())\n",
    "model.add(Dense(units=256,activation='relu'))\n",
    "model.add(Dense(units=128,activation='relu'))\n",
    "model.add(Dropout(0.5))\n",
    "model.add(Dense(units=10,activation='softmax'))\n"
   ]
  },
  {
   "cell_type": "code",
   "execution_count": 44,
   "metadata": {
    "colab": {
     "base_uri": "https://localhost:8080/",
     "height": 529
    },
    "colab_type": "code",
    "executionInfo": {
     "elapsed": 1591,
     "status": "ok",
     "timestamp": 1568143441855,
     "user": {
      "displayName": "Krishna Sai",
      "photoUrl": "",
      "userId": "01542898352967183230"
     },
     "user_tz": -330
    },
    "id": "kECBgo_XSPGr",
    "outputId": "3c11ddf8-c596-4e63-fe5a-a93211aa7856"
   },
   "outputs": [
    {
     "name": "stdout",
     "output_type": "stream",
     "text": [
      "_________________________________________________________________\n",
      "Layer (type)                 Output Shape              Param #   \n",
      "=================================================================\n",
      "conv2d_4 (Conv2D)            (None, 26, 26, 32)        320       \n",
      "_________________________________________________________________\n",
      "max_pooling2d_2 (MaxPooling2 (None, 13, 13, 32)        0         \n",
      "_________________________________________________________________\n",
      "dropout (Dropout)            (None, 13, 13, 32)        0         \n",
      "_________________________________________________________________\n",
      "conv2d_5 (Conv2D)            (None, 11, 11, 64)        18496     \n",
      "_________________________________________________________________\n",
      "max_pooling2d_3 (MaxPooling2 (None, 5, 5, 64)          0         \n",
      "_________________________________________________________________\n",
      "dropout_1 (Dropout)          (None, 5, 5, 64)          0         \n",
      "_________________________________________________________________\n",
      "flatten_1 (Flatten)          (None, 1600)              0         \n",
      "_________________________________________________________________\n",
      "dense_3 (Dense)              (None, 256)               409856    \n",
      "_________________________________________________________________\n",
      "dense_4 (Dense)              (None, 128)               32896     \n",
      "_________________________________________________________________\n",
      "dropout_2 (Dropout)          (None, 128)               0         \n",
      "_________________________________________________________________\n",
      "dense_5 (Dense)              (None, 10)                1290      \n",
      "=================================================================\n",
      "Total params: 462,858\n",
      "Trainable params: 462,858\n",
      "Non-trainable params: 0\n",
      "_________________________________________________________________\n"
     ]
    }
   ],
   "source": [
    "model.summary()"
   ]
  },
  {
   "cell_type": "code",
   "execution_count": 45,
   "metadata": {
    "colab": {},
    "colab_type": "code",
    "id": "9qKLG0SgSPGt"
   },
   "outputs": [],
   "source": [
    "model.compile(optimizer='adam',loss='categorical_crossentropy',metrics=['accuracy'])"
   ]
  },
  {
   "cell_type": "code",
   "execution_count": 46,
   "metadata": {
    "colab": {
     "base_uri": "https://localhost:8080/",
     "height": 477
    },
    "colab_type": "code",
    "id": "MGXq68XsSPGv",
    "outputId": "8e5136dd-8b6a-4f22-872c-619fd4df3714"
   },
   "outputs": [
    {
     "name": "stdout",
     "output_type": "stream",
     "text": [
      "Train on 60000 samples, validate on 10000 samples\n",
      "WARNING:tensorflow:From C:\\ProgramData\\Anaconda3\\lib\\site-packages\\tensorflow\\python\\ops\\math_ops.py:3066: to_int32 (from tensorflow.python.ops.math_ops) is deprecated and will be removed in a future version.\n",
      "Instructions for updating:\n",
      "Use tf.cast instead.\n",
      "Epoch 1/20\n",
      "60000/60000 [==============================] - 74s 1ms/sample - loss: 0.2287 - acc: 0.9290 - val_loss: 0.0529 - val_acc: 0.9839\n",
      "Epoch 2/20\n",
      "60000/60000 [==============================] - 75s 1ms/sample - loss: 0.0767 - acc: 0.9785 - val_loss: 0.0368 - val_acc: 0.9881\n",
      "Epoch 3/20\n",
      "60000/60000 [==============================] - 77s 1ms/sample - loss: 0.0586 - acc: 0.9831 - val_loss: 0.0348 - val_acc: 0.9886\n",
      "Epoch 4/20\n",
      "60000/60000 [==============================] - 74s 1ms/sample - loss: 0.0486 - acc: 0.9860 - val_loss: 0.0312 - val_acc: 0.9898\n",
      "Epoch 5/20\n",
      "60000/60000 [==============================] - 72s 1ms/sample - loss: 0.0420 - acc: 0.9880 - val_loss: 0.0253 - val_acc: 0.9926\n",
      "Epoch 6/20\n",
      "60000/60000 [==============================] - 73s 1ms/sample - loss: 0.0400 - acc: 0.9886 - val_loss: 0.0269 - val_acc: 0.9921\n",
      "Epoch 7/20\n",
      "60000/60000 [==============================] - 75s 1ms/sample - loss: 0.0344 - acc: 0.9901 - val_loss: 0.0244 - val_acc: 0.9929\n",
      "Epoch 8/20\n",
      "60000/60000 [==============================] - 73s 1ms/sample - loss: 0.0310 - acc: 0.9908 - val_loss: 0.0249 - val_acc: 0.9922\n",
      "Epoch 9/20\n",
      "60000/60000 [==============================] - 74s 1ms/sample - loss: 0.0283 - acc: 0.9920 - val_loss: 0.0319 - val_acc: 0.9915\n",
      "Epoch 10/20\n",
      "60000/60000 [==============================] - 75s 1ms/sample - loss: 0.0271 - acc: 0.9919 - val_loss: 0.0292 - val_acc: 0.9922\n",
      "Epoch 11/20\n",
      "60000/60000 [==============================] - 71s 1ms/sample - loss: 0.0261 - acc: 0.9925 - val_loss: 0.0240 - val_acc: 0.9930\n",
      "Epoch 12/20\n",
      "60000/60000 [==============================] - 72s 1ms/sample - loss: 0.0238 - acc: 0.9929 - val_loss: 0.0286 - val_acc: 0.9929\n",
      "Epoch 13/20\n",
      "60000/60000 [==============================] - 72s 1ms/sample - loss: 0.0241 - acc: 0.9932 - val_loss: 0.0283 - val_acc: 0.9916\n",
      "Epoch 14/20\n",
      "60000/60000 [==============================] - 72s 1ms/sample - loss: 0.0229 - acc: 0.9935 - val_loss: 0.0281 - val_acc: 0.9926\n",
      "Epoch 15/20\n",
      "60000/60000 [==============================] - 72s 1ms/sample - loss: 0.0209 - acc: 0.9937 - val_loss: 0.0280 - val_acc: 0.9930\n",
      "Epoch 16/20\n",
      "60000/60000 [==============================] - 72s 1ms/sample - loss: 0.0209 - acc: 0.9943 - val_loss: 0.0273 - val_acc: 0.9934\n",
      "Epoch 17/20\n",
      "60000/60000 [==============================] - 72s 1ms/sample - loss: 0.0191 - acc: 0.9944 - val_loss: 0.0265 - val_acc: 0.9930\n",
      "Epoch 18/20\n",
      "60000/60000 [==============================] - 71s 1ms/sample - loss: 0.0232 - acc: 0.9940 - val_loss: 0.0265 - val_acc: 0.9927\n",
      "Epoch 19/20\n",
      "60000/60000 [==============================] - 74s 1ms/sample - loss: 0.0222 - acc: 0.9939 - val_loss: 0.0256 - val_acc: 0.9933\n",
      "Epoch 20/20\n",
      "60000/60000 [==============================] - 75s 1ms/sample - loss: 0.0187 - acc: 0.9944 - val_loss: 0.0227 - val_acc: 0.9931\n"
     ]
    },
    {
     "data": {
      "text/plain": [
       "<tensorflow.python.keras.callbacks.History at 0x26d782cb940>"
      ]
     },
     "execution_count": 46,
     "metadata": {},
     "output_type": "execute_result"
    }
   ],
   "source": [
    "model.fit(x=x_train,y=y_train_ohe,epochs=20,batch_size=32,validation_data=[x_test,y_test_ohe])"
   ]
  },
  {
   "cell_type": "code",
   "execution_count": 49,
   "metadata": {
    "colab": {
     "base_uri": "https://localhost:8080/",
     "height": 34
    },
    "colab_type": "code",
    "executionInfo": {
     "elapsed": 4678,
     "status": "ok",
     "timestamp": 1568143381150,
     "user": {
      "displayName": "Krishna Sai",
      "photoUrl": "",
      "userId": "01542898352967183230"
     },
     "user_tz": -330
    },
    "id": "dKHdzq-5ndjw",
    "outputId": "e080abd2-2e72-41c7-fc5b-d2b36b8e9032"
   },
   "outputs": [],
   "source": [
    "y_true_pred=model.predict_classes(x_train)"
   ]
  },
  {
   "cell_type": "code",
   "execution_count": 59,
   "metadata": {
    "colab": {},
    "colab_type": "code",
    "id": "QVhjKg_On_MG"
   },
   "outputs": [],
   "source": [
    "from pandas_ml import ConfusionMatrix"
   ]
  },
  {
   "cell_type": "code",
   "execution_count": 60,
   "metadata": {
    "colab": {},
    "colab_type": "code",
    "id": "Jkf5oIWDnEBE"
   },
   "outputs": [],
   "source": [
    "cm=ConfusionMatrix(y_train,y_true_pred)"
   ]
  },
  {
   "cell_type": "code",
   "execution_count": 64,
   "metadata": {},
   "outputs": [
    {
     "data": {
      "text/plain": [
       "Predicted     0     1     2     3     4     5     6     7     8     9  __all__\n",
       "Actual                                                                        \n",
       "0          5923     0     0     0     0     0     0     0     0     0     5923\n",
       "1             0  6737     0     0     0     0     3     2     0     0     6742\n",
       "2             0     0  5953     0     0     0     0     5     0     0     5958\n",
       "3             0     0     0  6119     0    10     0     0     0     2     6131\n",
       "4             0     0     0     0  5836     0     0     1     0     5     5842\n",
       "5             0     0     0     2     0  5413     6     0     0     0     5421\n",
       "6             1     0     0     0     0     0  5917     0     0     0     5918\n",
       "7             0     5     0     0     0     0     0  6259     0     1     6265\n",
       "8             1     0     1     0     0     0     0     0  5847     2     5851\n",
       "9             1     0     0     0     5     0     0     2     0  5941     5949\n",
       "__all__    5926  6742  5954  6121  5841  5423  5926  6269  5847  5951    60000"
      ]
     },
     "execution_count": 64,
     "metadata": {},
     "output_type": "execute_result"
    }
   ],
   "source": [
    "cm"
   ]
  },
  {
   "cell_type": "code",
   "execution_count": 65,
   "metadata": {},
   "outputs": [],
   "source": [
    "y_test_pred=model.predict_classes(x_test)"
   ]
  },
  {
   "cell_type": "code",
   "execution_count": 66,
   "metadata": {},
   "outputs": [],
   "source": [
    "cm1=ConfusionMatrix(y_test,y_test_pred)"
   ]
  },
  {
   "cell_type": "code",
   "execution_count": 67,
   "metadata": {},
   "outputs": [
    {
     "data": {
      "text/plain": [
       "Predicted    0     1     2     3    4    5    6     7    8     9  __all__\n",
       "Actual                                                                   \n",
       "0          978     1     0     0    0    0    0     1    0     0      980\n",
       "1            0  1134     0     0    0    0    0     1    0     0     1135\n",
       "2            2     0  1023     1    0    0    0     6    0     0     1032\n",
       "3            0     0     0  1003    0    4    0     1    2     0     1010\n",
       "4            0     0     0     0  973    0    3     0    0     6      982\n",
       "5            1     0     1     3    0  886    1     0    0     0      892\n",
       "6            1     2     0     0    2    2  951     0    0     0      958\n",
       "7            0     5     0     0    0    0    0  1021    0     2     1028\n",
       "8            3     0     1     2    0    1    0     0  965     2      974\n",
       "9            0     0     0     0    5    4    0     2    1   997     1009\n",
       "__all__    985  1142  1025  1009  980  897  955  1032  968  1007    10000"
      ]
     },
     "execution_count": 67,
     "metadata": {},
     "output_type": "execute_result"
    }
   ],
   "source": [
    "cm1"
   ]
  },
  {
   "cell_type": "code",
   "execution_count": 69,
   "metadata": {},
   "outputs": [],
   "source": [
    "import matplotlib.pyplot as plt\n",
    "%matplotlib inline"
   ]
  },
  {
   "cell_type": "code",
   "execution_count": null,
   "metadata": {},
   "outputs": [],
   "source": []
  }
 ],
 "metadata": {
  "accelerator": "GPU",
  "colab": {
   "collapsed_sections": [],
   "name": "MNIST Dataset.ipynb",
   "provenance": [],
   "version": "0.3.2"
  },
  "kernelspec": {
   "display_name": "Python 3",
   "language": "python",
   "name": "python3"
  },
  "language_info": {
   "codemirror_mode": {
    "name": "ipython",
    "version": 3
   },
   "file_extension": ".py",
   "mimetype": "text/x-python",
   "name": "python",
   "nbconvert_exporter": "python",
   "pygments_lexer": "ipython3",
   "version": "3.7.3"
  }
 },
 "nbformat": 4,
 "nbformat_minor": 1
}
